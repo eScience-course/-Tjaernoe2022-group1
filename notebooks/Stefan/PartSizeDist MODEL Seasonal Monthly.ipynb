{
 "cells": [
  {
   "cell_type": "markdown",
   "id": "868ab81a-de5d-4505-8f1c-49ff60781209",
   "metadata": {},
   "source": [
    "## Modeling dmps data seasonally/ monthly, do we still see the same trend?"
   ]
  },
  {
   "cell_type": "code",
   "execution_count": null,
   "id": "c16b5df8-a3b6-4761-8bb0-ffb58f9c3ebb",
   "metadata": {},
   "outputs": [],
   "source": []
  },
  {
   "cell_type": "code",
   "execution_count": null,
   "id": "2b0b4d18-5b53-49a6-9ff2-ccb0cd7ee352",
   "metadata": {},
   "outputs": [],
   "source": []
  },
  {
   "cell_type": "code",
   "execution_count": null,
   "id": "6107ad9c-7b31-4522-8737-101c6b029686",
   "metadata": {},
   "outputs": [],
   "source": []
  },
  {
   "cell_type": "code",
   "execution_count": null,
   "id": "03ceaf06-8f1a-40d5-bdde-fe18d5114e7d",
   "metadata": {},
   "outputs": [],
   "source": []
  },
  {
   "cell_type": "code",
   "execution_count": null,
   "id": "1d7638c8-048a-4834-9831-25d25a9ff48a",
   "metadata": {},
   "outputs": [],
   "source": []
  }
 ],
 "metadata": {
  "kernelspec": {
   "display_name": "",
   "name": ""
  },
  "language_info": {
   "name": ""
  }
 },
 "nbformat": 4,
 "nbformat_minor": 5
}
