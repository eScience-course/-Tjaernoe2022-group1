{
 "cells": [
  {
   "cell_type": "markdown",
   "id": "868ab81a-de5d-4505-8f1c-49ff60781209",
   "metadata": {},
   "source": [
    "## Modeling dmps data seasonally/ monthly, do we still see the same trend?"
   ]
  },
  {
   "cell_type": "code",
   "execution_count": null,
   "id": "c16b5df8-a3b6-4761-8bb0-ffb58f9c3ebb",
   "metadata": {},
   "outputs": [],
   "source": [
    "import s3fs\n",
    "import xarray as xr\n",
    "import s3fs\n",
    "s3 = s3fs.S3FileSystem(key=\"K1CQ7M1DMTLUFK182APD\", \n",
    "                       secret=\"3JuZAQm5I03jtpijCpHOdkAsJDNLNfZxBpM15Pi0\", \n",
    "                       client_kwargs=dict(endpoint_url=\"https://rgw.met.no\"))\n",
    "s3.ls('escience2022')"
   ]
  },
  {
   "cell_type": "code",
   "execution_count": null,
   "id": "2b0b4d18-5b53-49a6-9ff2-ccb0cd7ee352",
   "metadata": {},
   "outputs": [],
   "source": []
  },
  {
   "cell_type": "code",
   "execution_count": null,
   "id": "6107ad9c-7b31-4522-8737-101c6b029686",
   "metadata": {},
   "outputs": [],
   "source": []
  },
  {
   "cell_type": "code",
   "execution_count": null,
   "id": "03ceaf06-8f1a-40d5-bdde-fe18d5114e7d",
   "metadata": {},
   "outputs": [],
   "source": []
  },
  {
   "cell_type": "code",
   "execution_count": null,
   "id": "1d7638c8-048a-4834-9831-25d25a9ff48a",
   "metadata": {},
   "outputs": [],
   "source": []
  }
 ],
 "metadata": {
  "kernelspec": {
   "display_name": "Python 3 (ipykernel)",
   "language": "python",
   "name": "python3"
  },
  "language_info": {
   "codemirror_mode": {
    "name": "ipython",
    "version": 3
   },
   "file_extension": ".py",
   "mimetype": "text/x-python",
   "name": "python",
   "nbconvert_exporter": "python",
   "pygments_lexer": "ipython3",
   "version": "3.9.13"
  }
 },
 "nbformat": 4,
 "nbformat_minor": 5
}
