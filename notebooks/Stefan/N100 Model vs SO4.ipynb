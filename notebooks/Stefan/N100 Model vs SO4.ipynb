{
 "cells": [
  {
   "cell_type": "markdown",
   "id": "ec44cf41-0e9c-4408-9599-7fdfef5b79c9",
   "metadata": {},
   "source": [
    "## Grouping by season in order to plot along elevation."
   ]
  },
  {
   "cell_type": "code",
   "execution_count": 1,
   "id": "4ea1aa96-c5ec-4eaf-b917-30ee4971a88c",
   "metadata": {},
   "outputs": [
    {
     "data": {
      "text/plain": [
       "['escience2022/Ada',\n",
       " 'escience2022/Antoine',\n",
       " 'escience2022/Dominic',\n",
       " 'escience2022/ESA_SMOS_sss',\n",
       " 'escience2022/Remy',\n",
       " 'escience2022/Sara',\n",
       " 'escience2022/Zhihong']"
      ]
     },
     "execution_count": 1,
     "metadata": {},
     "output_type": "execute_result"
    }
   ],
   "source": [
    "import s3fs\n",
    "import xarray as xr\n",
    "import s3fs\n",
    "s3 = s3fs.S3FileSystem(key=\"K1CQ7M1DMTLUFK182APD\", \n",
    "                       secret=\"3JuZAQm5I03jtpijCpHOdkAsJDNLNfZxBpM15Pi0\", \n",
    "                       client_kwargs=dict(endpoint_url=\"https://rgw.met.no\"))\n",
    "s3.ls('escience2022')"
   ]
  },
  {
   "cell_type": "code",
   "execution_count": 2,
   "id": "250b6c67-5ef2-44cd-a60b-33a15fec2b69",
   "metadata": {},
   "outputs": [],
   "source": [
    "varl = ['N100','N200','N50', 'BC_AI'] "
   ]
  },
  {
   "cell_type": "code",
   "execution_count": 3,
   "id": "bb6bbdd7-46d5-4f58-816f-4aabe6bbf0f0",
   "metadata": {},
   "outputs": [],
   "source": [
    "path_to_data = 's3://escience2022/Sara/NorESM_nudged_data/postproc/stations/OsloAero_intBVOC_f09_f09_mg17_full/'\n",
    "postfix = '_OsloAero_intBVOC_f09_f09_mg17_full_2012-01-01_2015-01-01_hour_locations.nc'"
   ]
  },
  {
   "cell_type": "code",
   "execution_count": 4,
   "id": "1630eb29-eaa1-4581-8251-0142130d351d",
   "metadata": {},
   "outputs": [],
   "source": [
    "def make_file_path_for_var(v,):\n",
    "    return path_to_data+v+postfix"
   ]
  },
  {
   "cell_type": "code",
   "execution_count": 5,
   "id": "11ef6d0c-5449-474f-ae9a-126ed3d19f33",
   "metadata": {},
   "outputs": [],
   "source": [
    "filelist = [make_file_path_for_var(v) for v in varl]"
   ]
  },
  {
   "cell_type": "code",
   "execution_count": 6,
   "id": "904e732b-a56a-4acd-b08a-de04d1ac90eb",
   "metadata": {},
   "outputs": [],
   "source": [
    "list_of_s3_obj = [s3.open(s) for s in filelist]\n",
    "\n",
    "ds = xr.open_mfdataset(list_of_s3_obj)"
   ]
  },
  {
   "cell_type": "code",
   "execution_count": 7,
   "id": "088fb84e-8767-4d67-a1a2-51e7d032f2f4",
   "metadata": {},
   "outputs": [],
   "source": [
    "sulphate_varl = ['SO4_NA', 'SO4_A1', 'SO4_A2', 'SO4_AC','SO4_PR'] "
   ]
  },
  {
   "cell_type": "code",
   "execution_count": 8,
   "id": "1b8c1df1-fe26-43b1-8231-3d89076e1bf6",
   "metadata": {},
   "outputs": [],
   "source": [
    "path_to_data = 's3://escience2022/Sara/NorESM_nudged_data/postproc/stations/OsloAero_intBVOC_f09_f09_mg17_ssp245/'\n",
    "postfix = '_OsloAero_intBVOC_f09_f09_mg17_ssp245_2015-01-01_2018-01-01_hour_locations.nc'"
   ]
  },
  {
   "cell_type": "code",
   "execution_count": 9,
   "id": "693bb28e-222a-47d0-a6da-d7e92259f01d",
   "metadata": {},
   "outputs": [],
   "source": [
    "filelist = [make_file_path_for_var(v) for v in sulphate_varl]"
   ]
  },
  {
   "cell_type": "code",
   "execution_count": 10,
   "id": "51ca7d38-15bd-41a9-b648-f62138ad7602",
   "metadata": {},
   "outputs": [],
   "source": [
    "list_of_s3_obj = [s3.open(s) for s in filelist]\n",
    "\n",
    "ds = xr.open_mfdataset(list_of_s3_obj)"
   ]
  },
  {
   "cell_type": "code",
   "execution_count": 11,
   "id": "3c96754f-94cb-445f-8d12-53b8f733f607",
   "metadata": {},
   "outputs": [],
   "source": [
    "ds['SO4_tot'] = 0\n",
    "for var in sulphate_varl:\n",
    "    ds['SO4_tot'] = ds['SO4_tot'] + ds[var]\n",
    "\n",
    "ds['SO4_tot'].attrs['units'] = ds[var].attrs['units']"
   ]
  },
  {
   "cell_type": "code",
   "execution_count": 12,
   "id": "a003c7b1-82ad-43d8-90d0-e9a6ce93b522",
   "metadata": {},
   "outputs": [
    {
     "data": {
      "text/plain": [
       "1.2753492774515685"
      ]
     },
     "execution_count": 12,
     "metadata": {},
     "output_type": "execute_result"
    }
   ],
   "source": [
    "T_standard =  273.15 #K\n",
    "p_standard = 1e5 #Pa\n",
    "R = 287.058\n",
    "\n",
    "rho = p_standard/(R*T_standard)\n",
    "rho"
   ]
  },
  {
   "cell_type": "code",
   "execution_count": 13,
   "id": "e6a0812c-4b1b-4466-8af6-2bd65323aa22",
   "metadata": {},
   "outputs": [],
   "source": [
    "var = 'SO4_tot'\n",
    "if ds[var].attrs['units'] =='kg/kg':\n",
    "    ds[var] = ds[var]*rho\n",
    "    ds[var].attrs['units'] = 'kg/m3'\n",
    "    ## Change to ug/m3\n",
    "    ds[var] = ds[var]*1e9\n",
    "    ds[var].attrs['units'] = 'ug/m3'\n",
    "                "
   ]
  },
  {
   "cell_type": "code",
   "execution_count": 14,
   "id": "531d6842-9a4e-4656-a95c-10bcfcf1d6a2",
   "metadata": {},
   "outputs": [],
   "source": [
    "filelist = [make_file_path_for_var(v) for v in varl]"
   ]
  },
  {
   "cell_type": "code",
   "execution_count": 15,
   "id": "5017a599-2908-4666-9cbc-04624d42d2a9",
   "metadata": {},
   "outputs": [],
   "source": [
    "list_of_s3_obj = [s3.open(s) for s in filelist]\n",
    "\n",
    "ds_aero = xr.open_mfdataset(list_of_s3_obj)"
   ]
  },
  {
   "cell_type": "code",
   "execution_count": 16,
   "id": "e0f37442-828e-4d20-913a-00bc60f505c7",
   "metadata": {},
   "outputs": [],
   "source": [
    "import matplotlib.pyplot as plt"
   ]
  },
  {
   "cell_type": "code",
   "execution_count": 17,
   "id": "49101dec-8c0b-4364-85e9-8022a7309150",
   "metadata": {},
   "outputs": [],
   "source": [
    "ds =xr.merge([ds,ds_aero])"
   ]
  }
 ],
 "metadata": {
  "kernelspec": {
   "display_name": "Python 3 (ipykernel)",
   "language": "python",
   "name": "python3"
  },
  "language_info": {
   "codemirror_mode": {
    "name": "ipython",
    "version": 3
   },
   "file_extension": ".py",
   "mimetype": "text/x-python",
   "name": "python",
   "nbconvert_exporter": "python",
   "pygments_lexer": "ipython3",
   "version": "3.9.13"
  }
 },
 "nbformat": 4,
 "nbformat_minor": 5
}
