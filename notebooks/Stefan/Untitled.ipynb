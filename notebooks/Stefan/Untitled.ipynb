{
 "cells": [
  {
   "cell_type": "code",
   "execution_count": 6,
   "id": "e128bc76-176c-4ded-aa25-94ac1c081ea3",
   "metadata": {},
   "outputs": [
    {
     "name": "stdout",
     "output_type": "stream",
     "text": [
      "Requirement already satisfied: threddsclient in /srv/conda/envs/notebook/lib/python3.9/site-packages (0.4.2)\n",
      "Requirement already satisfied: lxml in /srv/conda/envs/notebook/lib/python3.9/site-packages (from threddsclient) (4.9.1)\n",
      "Requirement already satisfied: requests in /srv/conda/envs/notebook/lib/python3.9/site-packages (from threddsclient) (2.28.1)\n",
      "Requirement already satisfied: beautifulsoup4 in /srv/conda/envs/notebook/lib/python3.9/site-packages (from threddsclient) (4.11.1)\n",
      "Requirement already satisfied: soupsieve>1.2 in /srv/conda/envs/notebook/lib/python3.9/site-packages (from beautifulsoup4->threddsclient) (2.3.2.post1)\n",
      "Requirement already satisfied: charset-normalizer<3,>=2 in /srv/conda/envs/notebook/lib/python3.9/site-packages (from requests->threddsclient) (2.1.0)\n",
      "Requirement already satisfied: certifi>=2017.4.17 in /srv/conda/envs/notebook/lib/python3.9/site-packages (from requests->threddsclient) (2022.6.15)\n",
      "Requirement already satisfied: idna<4,>=2.5 in /srv/conda/envs/notebook/lib/python3.9/site-packages (from requests->threddsclient) (3.3)\n",
      "Requirement already satisfied: urllib3<1.27,>=1.21.1 in /srv/conda/envs/notebook/lib/python3.9/site-packages (from requests->threddsclient) (1.26.11)\n"
     ]
    }
   ],
   "source": [
    "!pip install threddsclient\n",
    "import threddsclient\n",
    "import xarray as xr\n",
    "opendap_urls = 'https://thredds.nilu.no/thredds/dodsC/ebas/NO0042G.19930101070000.20210420142507.filter_3pack.sulphate_total.aerosol.18y.1d.NO01L_f3p_d_0042.NO01L_IC.lev2.nc'"
   ]
  },
  {
   "cell_type": "code",
   "execution_count": null,
   "id": "b728ea2e-345a-4018-b9b5-3150e4bc4684",
   "metadata": {},
   "outputs": [],
   "source": [
    "'https://thredds.nilu.no/thredds/dodsC/ebas/NO0042G.19930101070000.20210421112338.filter_3pack.sulphate_total.aerosol.18y.1d.NO01L_f3p_d_0042.NO01L_IC.lev2.nc'"
   ]
  },
  {
   "cell_type": "code",
   "execution_count": 7,
   "id": "3cb6f826-b5ba-4b93-8267-e91bfcad7677",
   "metadata": {},
   "outputs": [
    {
     "ename": "ValueError",
     "evalue": "cannot do wild-card matching for paths that are remote URLs unless engine='zarr' is specified. Got paths: https://thredds.nilu.no/thredds/dodsC/ebas/NO0042G.19930101070000.20210420142507.filter_3pack.sulphate_total.aerosol.18y.1d.NO01L_f3p_d_0042.NO01L_IC.lev2.nc. Instead, supply paths as an explicit list of strings.",
     "output_type": "error",
     "traceback": [
      "\u001b[0;31m---------------------------------------------------------------------------\u001b[0m",
      "\u001b[0;31mValueError\u001b[0m                                Traceback (most recent call last)",
      "Input \u001b[0;32mIn [7]\u001b[0m, in \u001b[0;36m<cell line: 1>\u001b[0;34m()\u001b[0m\n\u001b[0;32m----> 1\u001b[0m dsmf \u001b[38;5;241m=\u001b[39m \u001b[43mxr\u001b[49m\u001b[38;5;241;43m.\u001b[39;49m\u001b[43mopen_mfdataset\u001b[49m\u001b[43m(\u001b[49m\u001b[43mopendap_urls\u001b[49m\u001b[43m)\u001b[49m\n",
      "File \u001b[0;32m/srv/conda/envs/notebook/lib/python3.9/site-packages/xarray/backends/api.py:924\u001b[0m, in \u001b[0;36mopen_mfdataset\u001b[0;34m(paths, chunks, concat_dim, compat, preprocess, engine, data_vars, coords, combine, parallel, join, attrs_file, combine_attrs, **kwargs)\u001b[0m\n\u001b[1;32m    922\u001b[0m     paths \u001b[38;5;241m=\u001b[39m [fs\u001b[38;5;241m.\u001b[39mget_mapper(path) \u001b[38;5;28;01mfor\u001b[39;00m path \u001b[38;5;129;01min\u001b[39;00m tmp_paths]\n\u001b[1;32m    923\u001b[0m \u001b[38;5;28;01melif\u001b[39;00m is_remote_uri(paths):\n\u001b[0;32m--> 924\u001b[0m     \u001b[38;5;28;01mraise\u001b[39;00m \u001b[38;5;167;01mValueError\u001b[39;00m(\n\u001b[1;32m    925\u001b[0m         \u001b[38;5;124m\"\u001b[39m\u001b[38;5;124mcannot do wild-card matching for paths that are remote URLs \u001b[39m\u001b[38;5;124m\"\u001b[39m\n\u001b[1;32m    926\u001b[0m         \u001b[38;5;124mf\u001b[39m\u001b[38;5;124m\"\u001b[39m\u001b[38;5;124munless engine=\u001b[39m\u001b[38;5;124m'\u001b[39m\u001b[38;5;124mzarr\u001b[39m\u001b[38;5;124m'\u001b[39m\u001b[38;5;124m is specified. Got paths: \u001b[39m\u001b[38;5;132;01m{\u001b[39;00mpaths\u001b[38;5;132;01m}\u001b[39;00m\u001b[38;5;124m. \u001b[39m\u001b[38;5;124m\"\u001b[39m\n\u001b[1;32m    927\u001b[0m         \u001b[38;5;124m\"\u001b[39m\u001b[38;5;124mInstead, supply paths as an explicit list of strings.\u001b[39m\u001b[38;5;124m\"\u001b[39m\n\u001b[1;32m    928\u001b[0m     )\n\u001b[1;32m    929\u001b[0m \u001b[38;5;28;01melse\u001b[39;00m:\n\u001b[1;32m    930\u001b[0m     paths \u001b[38;5;241m=\u001b[39m \u001b[38;5;28msorted\u001b[39m(glob(_normalize_path(paths)))\n",
      "\u001b[0;31mValueError\u001b[0m: cannot do wild-card matching for paths that are remote URLs unless engine='zarr' is specified. Got paths: https://thredds.nilu.no/thredds/dodsC/ebas/NO0042G.19930101070000.20210420142507.filter_3pack.sulphate_total.aerosol.18y.1d.NO01L_f3p_d_0042.NO01L_IC.lev2.nc. Instead, supply paths as an explicit list of strings."
     ]
    }
   ],
   "source": [
    "dsmf = xr.open_mfdataset(opendap_urls)"
   ]
  }
 ],
 "metadata": {
  "kernelspec": {
   "display_name": "Python 3 (ipykernel)",
   "language": "python",
   "name": "python3"
  },
  "language_info": {
   "codemirror_mode": {
    "name": "ipython",
    "version": 3
   },
   "file_extension": ".py",
   "mimetype": "text/x-python",
   "name": "python",
   "nbconvert_exporter": "python",
   "pygments_lexer": "ipython3",
   "version": "3.9.13"
  }
 },
 "nbformat": 4,
 "nbformat_minor": 5
}
