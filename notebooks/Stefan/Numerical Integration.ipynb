{
 "cells": [
  {
   "cell_type": "markdown",
   "id": "65039570-f1a2-43ed-b921-4da68a39b2dc",
   "metadata": {},
   "source": [
    "## Thank you Theo!!"
   ]
  },
  {
   "cell_type": "code",
   "execution_count": null,
   "id": "777f120c-65c7-4f4c-8701-5e838543ee65",
   "metadata": {},
   "outputs": [],
   "source": [
    "import xarray as xr\n",
    "import numpy as np\n",
    "\n",
    "def pnsd_integration(ds, size_thresh, diameter_var = 'D'):\n",
    "    '''\n",
    "    - D is the mean diameter of the size bins\n",
    "    - time is the time dimension\n",
    "    - ds is the dataset containing the size distribution\n",
    "    - pnsd is the variable in which the particle number size distribution is stored (dN/dlogDp)\n",
    "    - size_thresh is the lower limit of the size bins to be integrated in nanometers\n",
    "    '''\n",
    "    Dp = ds.D.values\n",
    "    logDp = np.log10(Dp)\n",
    "    interval = np.array([logDp[i]-logDp[i-1] for i in range(1,np.size(Dp))])/2\n",
    "    centers = logDp[:-1]+interval\n",
    "    centers_bis = np.append(logDp[0]-interval[0], centers)\n",
    "    centers_bis = np.append(centers_bis, logDp[-1]+interval[-1])\n",
    "    bound_bin = 10**(centers_bis)#*10**(-9)\n",
    "    dlogDp = np.array([np.log10(bound_bin[i+1])-np.log10(bound_bin[i]) for i in range(0, bound_bin.shape[0]-1)])\n",
    "    pnsd_nolog = np.zeros(ds['pnsd'].values.shape)\n",
    "    for i, Dp_i in enumerate(Dp):\n",
    "        pnsd_nolog[:,i] = ds['pnsd'].sel(D=Dp_i).values * dlogDp[i]\n",
    "    ds['pnsd_unlog'] = (['time', 'D'], pnsd_nolog)\n",
    "    ds['N'+str(np.round(size_thresh, 2))] = ds['pnsd_unlog'].sel(D=slice(size_thresh, 1000)).sum(dim='D')\n",
    "\n",
    "#pnsd_integration(ds, 100)"
   ]
  },
  {
   "cell_type": "code",
   "execution_count": null,
   "id": "db306f52-7010-479e-8140-f347c3da6eae",
   "metadata": {},
   "outputs": [],
   "source": []
  },
  {
   "cell_type": "code",
   "execution_count": null,
   "id": "89645655-a392-42c0-90f5-1ed27ecef6d9",
   "metadata": {},
   "outputs": [],
   "source": []
  },
  {
   "cell_type": "code",
   "execution_count": null,
   "id": "3ec5e929-350f-4d4c-bf94-b8a58a306f8f",
   "metadata": {},
   "outputs": [],
   "source": []
  },
  {
   "cell_type": "code",
   "execution_count": null,
   "id": "198b2dc6-066e-46ab-9e73-7714b3974b3c",
   "metadata": {},
   "outputs": [],
   "source": []
  },
  {
   "cell_type": "code",
   "execution_count": null,
   "id": "c79014c1-9a97-4283-8251-c65aad4ae2a7",
   "metadata": {},
   "outputs": [],
   "source": []
  },
  {
   "cell_type": "code",
   "execution_count": null,
   "id": "67741801-716d-483f-b451-c36f55ce9a0f",
   "metadata": {},
   "outputs": [],
   "source": []
  }
 ],
 "metadata": {
  "kernelspec": {
   "display_name": "Python 3 (ipykernel)",
   "language": "python",
   "name": "python3"
  },
  "language_info": {
   "codemirror_mode": {
    "name": "ipython",
    "version": 3
   },
   "file_extension": ".py",
   "mimetype": "text/x-python",
   "name": "python",
   "nbconvert_exporter": "python",
   "pygments_lexer": "ipython3",
   "version": "3.9.13"
  }
 },
 "nbformat": 4,
 "nbformat_minor": 5
}
