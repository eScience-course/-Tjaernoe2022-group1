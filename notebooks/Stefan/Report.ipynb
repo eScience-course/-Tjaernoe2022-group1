{
 "cells": [
  {
   "cell_type": "markdown",
   "id": "a482c2fa-eb0e-4bbe-b8a0-223a388bf6a7",
   "metadata": {},
   "source": [
    "# Escience Course Report"
   ]
  },
  {
   "cell_type": "markdown",
   "id": "66cab228-0463-414c-95a3-7b54842e196f",
   "metadata": {},
   "source": [
    "## Group 1:\n",
    "## Arctic - SCHMARTIC: SCHool of Model evaluation of AeRosol-Cloud inTeractions Important for Climate\n",
    "\n",
    "### Evaluating NorESM for process interactions of aerosols and cloud formation in the arctic."
   ]
  },
  {
   "cell_type": "markdown",
   "id": "c7af9fda-2fa6-49e2-8bc2-4a50c3b28aee",
   "metadata": {},
   "source": [
    "Lets keep this here in case we need an Abstract later, which I will write at the end once I already know what the whole report will be about."
   ]
  },
  {
   "cell_type": "markdown",
   "id": "e5d1953a-e739-41b4-a937-83c490b46570",
   "metadata": {},
   "source": [
    "## Introduction"
   ]
  },
  {
   "cell_type": "markdown",
   "id": "4d3308b5-e4b4-4051-b562-ed3927789d53",
   "metadata": {
    "jupyter": {
     "source_hidden": true
    },
    "tags": []
   },
   "source": [
    "Structure:\n",
    "- importance of clouds for radiative feedbacks for future climate predictions\n",
    "- CCN importance in cloud formation\n",
    "- sulphate and air composition importance for CCN production\n",
    "- Models need to get all this correct in order to make sure that the radiative balances and therefore the future predictions are also correct.\n",
    "    - Are they doing this?\n",
    "- This paper will focus on the role of sulphate and the production of CCN's."
   ]
  },
  {
   "cell_type": "markdown",
   "id": "45145512-6080-4fe9-8cf2-40f86e817229",
   "metadata": {},
   "source": [
    "Predicting the future of Earth's changing climate is a vital need that requires models providing accurate and trustworthy expectations of future conditions, so that actions may be taken to avoid adverse scenarios * . This is most true in the Artic where temperatures have been increasing at up to three times the average global rates encouraged by positive feedbacks * . Many of these are positive and leading to increased warming, for example increased temperatures leading to lower sea ice cover, causing lower average surface albedo, in turn leading to further warming via decreased reflected solar radiation * . Some are negative feedbacks and could help the climate remain in a more \"normal\" state by slowing the ongoing warming. One such feedback is the indirect impact of aerosols due to low-level clouds' cooling effect as they reflect and scatter more light before it can reach Earth's surface * . Modelling these clouds correctly is very important in painting a clearer picture for the future of a rapidly changing Arctic.\n",
    "\n",
    "Modeling clouds is not as simple as just calculating the presence and height of clouds. The properties of clouds such as the brightness, cloud droplet size, and water vs ice crystal characteristics are integral in them being either net warming or net cooling * . Even when using the same sets of models, cloud feedbacks can be drastically different depending on the conditions portraied. This was show when Pithan and Mauritsen * found arctic clouds to have a slight positive feedback whilst Zelinka et al. * showed Arctic clouds to have a negative feedback despite using the same set of models. An element that influences these cloud properties is the number and composition of particles forming the cloud as well as their make up * . Cloud Condensation Nuclei (CCN) being precursors to cloud droplets (by having the potential to become activated cloud droplets), are therefore essential to properly modelling cloud properties.\n",
    "\n",
    "The number of aerosol particles above the size of 50 and 100 nanometers (N50 and N100 respectively), can be used as an accurate proxy of CCN concentrations * . This is because the larger particles will become activated first as they require a lower super saturation to start growing. CCN additionally vary largely based on their source and their composition. In the Arctic, where the number of aerosols present can be limiting * , the creation of aerosols is highly linked to the formation and properties of clouds. Sulphate is important in lining insoluble aerosols in order to make them soluble * aiding in new particle formation and aerosol size growth * . Sea Spray is another significant source of aerosol particles in the arctic. As their size is quite large, *in the accumulation mode*, they are important for developing clouds. \n",
    "\n",
    "Models have become complex enough to simulate fine aspects of Earth's atmosphere such as the source and size of aerosols, as well as atmospheric processes which lead to cloud formation. However, due to the complex nature of these interactions, it is necessary to evaluate how accurately models portrait the concentrations of these aerosol species that form the base of the cloud formation process. This investigation aims to access the accuracy of the Norwegian Earth System Model (NorESM) by comparing its results to observation data, using the Zeppelin weather station in Ny-Ålesund as the study site. "
   ]
  },
  {
   "cell_type": "markdown",
   "id": "86d3484d-ca44-4bb1-8a53-575be50d9227",
   "metadata": {
    "tags": []
   },
   "source": [
    "***Different Start***\n",
    "\n",
    "Predicting Earth's changing climate is a vital need that requires models providing accurate and trustworthy expectations of future conditions, so that actions may be taken to avoid adverse scenarios. This is most true in the Artic where temperatures have been increasing at up to three times the average global rates encouraged by positive feedbacks. Many of these are positive and leading to increased warming, for example increased temperatures leading to lower sea ice cover, causing lower average surface albedo, in turn leading to further warming via decreased reflected solar radiation. Some are negative feedbacks and could help the climate remain in a more \"normal\" state by slowing the ongoing warming. One such feedback is the indirect impact of aerosols due to low-level clouds' cooling effect as they reflect and scatter more light before it can reach Earth's surface. Modelling these clouds correctly is very important in painting a clearer picture for the future of a rapidly changing Arctic."
   ]
  },
  {
   "cell_type": "markdown",
   "id": "1a622584-e98a-4ef3-ae0f-30546d226275",
   "metadata": {},
   "source": [
    "***"
   ]
  },
  {
   "cell_type": "markdown",
   "id": "03a7ec22-9489-421f-a7f8-2c2dbe75380b",
   "metadata": {
    "tags": []
   },
   "source": [
    "## Methods"
   ]
  },
  {
   "cell_type": "markdown",
   "id": "59e1adbc-037b-4d1e-bc54-e8b0302ccdc5",
   "metadata": {},
   "source": [
    "#### Importing packages"
   ]
  },
  {
   "cell_type": "markdown",
   "id": "7682695a-5517-41c4-9c21-dc45e6640d8e",
   "metadata": {},
   "source": [
    "Packages used for importing, processing and ploting data:"
   ]
  },
  {
   "cell_type": "code",
   "execution_count": 7,
   "id": "4e9976dd-00b5-4751-99f1-d4787a92a2c8",
   "metadata": {
    "collapsed": true,
    "jupyter": {
     "outputs_hidden": true
    },
    "tags": []
   },
   "outputs": [
    {
     "name": "stdout",
     "output_type": "stream",
     "text": [
      "Requirement already satisfied: threddsclient in /srv/conda/envs/notebook/lib/python3.9/site-packages (0.4.2)\n",
      "Requirement already satisfied: requests in /srv/conda/envs/notebook/lib/python3.9/site-packages (from threddsclient) (2.28.1)\n",
      "Requirement already satisfied: lxml in /srv/conda/envs/notebook/lib/python3.9/site-packages (from threddsclient) (4.9.1)\n",
      "Requirement already satisfied: beautifulsoup4 in /srv/conda/envs/notebook/lib/python3.9/site-packages (from threddsclient) (4.11.1)\n",
      "Requirement already satisfied: soupsieve>1.2 in /srv/conda/envs/notebook/lib/python3.9/site-packages (from beautifulsoup4->threddsclient) (2.3.2.post1)\n",
      "Requirement already satisfied: idna<4,>=2.5 in /srv/conda/envs/notebook/lib/python3.9/site-packages (from requests->threddsclient) (3.3)\n",
      "Requirement already satisfied: certifi>=2017.4.17 in /srv/conda/envs/notebook/lib/python3.9/site-packages (from requests->threddsclient) (2022.6.15)\n",
      "Requirement already satisfied: charset-normalizer<3,>=2 in /srv/conda/envs/notebook/lib/python3.9/site-packages (from requests->threddsclient) (2.1.0)\n",
      "Requirement already satisfied: urllib3<1.27,>=1.21.1 in /srv/conda/envs/notebook/lib/python3.9/site-packages (from requests->threddsclient) (1.26.11)\n"
     ]
    }
   ],
   "source": [
    "!pip install threddsclient\n",
    "import threddsclient\n",
    "import s3fs\n",
    "import xarray as xr\n",
    "import seaborn as sns\n",
    "import matplotlib.pyplot as plt\n",
    "import numpy as np\n",
    "from sklearn.linear_model import LinearRegression"
   ]
  },
  {
   "cell_type": "markdown",
   "id": "13b28eec-5208-4595-bd35-ca0396db30cd",
   "metadata": {},
   "source": [
    "#### Importing the data "
   ]
  },
  {
   "cell_type": "markdown",
   "id": "4adcac6f-daac-4fbb-87ca-4e4873e5a332",
   "metadata": {},
   "source": [
    "Model data used in this investigation was sourced from two nudged NorESM runs. The first was from 2012-2015, which used observation data. The second run from 2015 until 2018 was a look into the future. The model generated N50, N100, Black carbon (BC) data as well as several types of Sulphate and Sea Salt (SS) species, which were combined into a total sulphate concentration for the sake of this investigation."
   ]
  },
  {
   "cell_type": "code",
   "execution_count": 8,
   "id": "da2c6714-6da9-4032-a64e-c912f09634da",
   "metadata": {},
   "outputs": [],
   "source": [
    "s3 = s3fs.S3FileSystem(key=\"K1CQ7M1DMTLUFK182APD\", \n",
    "                       secret=\"3JuZAQm5I03jtpijCpHOdkAsJDNLNfZxBpM15Pi0\", \n",
    "                       client_kwargs=dict(endpoint_url=\"https://rgw.met.no\"))"
   ]
  },
  {
   "cell_type": "markdown",
   "id": "1d09a5b6-1202-4fdf-9191-b3e280e64a2e",
   "metadata": {},
   "source": [
    "*Editorial note:* Where possible code will be streamlines into functions in order to clear up clutter!!!"
   ]
  },
  {
   "cell_type": "code",
   "execution_count": 12,
   "id": "af2b21b2-6fd7-4f86-9157-d28b71839b83",
   "metadata": {},
   "outputs": [],
   "source": [
    "#Creating path to 2012-2015 Model run data\n",
    "path_to_data = 's3://escience2022/Sara/NorESM_nudged_data/postproc/stations/OsloAero_intBVOC_f09_f09_mg17_full/'\n",
    "postfix = '_OsloAero_intBVOC_f09_f09_mg17_full_2012-01-01_2015-01-01_hour_locations.nc'\n",
    "\n",
    "#Selecting the variables \n",
    "varl = ['N100','N200','N50', 'BC_AI', 'SS_A1','SS_A2','SS_A3','SO4_NA', 'SO4_A1', 'SO4_A2', 'SO4_AC','SO4_PR']\n",
    "\n",
    "#Dataset for 2012 data\n",
    "def make_file_path_for_var(v,):\n",
    "    return path_to_data+v+postfix\n",
    "filelist = [make_file_path_for_var(v) for v in varl]\n",
    "list_of_s3_obj = [s3.open(s) for s in filelist]\n",
    "ds2012 = xr.open_mfdataset(list_of_s3_obj)\n",
    "\n",
    "#Creating path to 2015-2018 Model run data\n",
    "path_to_data = 's3://escience2022/Sara/NorESM_nudged_data/postproc/stations/OsloAero_intBVOC_f09_f09_mg17_ssp245/'\n",
    "postfix = '_OsloAero_intBVOC_f09_f09_mg17_ssp245_2015-01-01_2018-01-01_hour_locations.nc'\n",
    "\n",
    "#Dataset for 2015 data\n",
    "filelist = [make_file_path_for_var(v) for v in varl]\n",
    "list_of_s3_obj = [s3.open(s) for s in filelist]\n",
    "ds = xr.open_mfdataset(list_of_s3_obj)\n",
    "\n",
    "#Removing overlap and Merging the datasets\n",
    "ds2012= ds2012.sel(time= slice('2012-01-01','2014-12-31'))\n",
    "ds = xr.merge([ds2012,ds])\n",
    "\n",
    "#Creating a sum of all Sea Salt (SS_Model) and all Sulphate (SO4_Model)\n",
    "ds['SS_Model'] = 0\n",
    "ds['SS_Model'] = ds['SS_Model'] + ds['SS_A1'] + ds['SS_A2'] + ds['SS_A3']\n",
    "ds['SS_Model'].attrs['units'] ='kg/kg'\n",
    "\n",
    "ds['SO4_Model'] = 0\n",
    "ds['SO4_Model'] = ds['SO4_Model'] + ds['SS_A1'] + ds['SS_A2'] + ds['SS_A3']\n",
    "ds['SO4_Model'].attrs['units'] ='kg/kg'\n",
    "\n",
    "#Converting the concentrations from kg/kg to ug/m3 (this is how the data is represented in the observations)\n",
    "T_standard =  273.15 #K\n",
    "p_standard = 1e5 #Pa\n",
    "R = 287.058\n",
    "\n",
    "rho = p_standard/(R*T_standard)\n",
    "\n",
    "var = 'SO4_Model'\n",
    "if ds[var].attrs['units'] =='kg/kg':\n",
    "    ds[var] = ds[var]*rho\n",
    "    ds[var].attrs['units'] = 'kg/m3'\n",
    "    ## Change to ug/m3\n",
    "    ds[var] = ds[var]*1e9\n",
    "    ds[var].attrs['units'] = 'ug/m3'\n",
    "\n",
    "var = 'SS_Model'\n",
    "if ds[var].attrs['units'] =='kg/kg':\n",
    "    ds[var] = ds[var]*rho\n",
    "    ds[var].attrs['units'] = 'kg/m3'\n",
    "    ## Change to ug/m3\n",
    "    ds[var] = ds[var]*1e9\n",
    "    ds[var].attrs['units'] = 'ug/m3'\n",
    "\n",
    "#Obtaining daily values to reduce outliers\n",
    "ds_daily = ds.resample(time='d').mean('time')\n",
    "ds_daily['season']= ds_daily['time.season']"
   ]
  },
  {
   "cell_type": "markdown",
   "id": "f25e6a85-9dcc-41e5-9fc9-219a5e78610d",
   "metadata": {},
   "source": [
    " "
   ]
  },
  {
   "cell_type": "markdown",
   "id": "9ae60050-86c6-435b-b20c-76aa1f02085a",
   "metadata": {},
   "source": [
    "Observation data from Zeppelin was obtained from the open source EBAS Catalogue. Multiple timeseries were combined to overlap with the modeling data available."
   ]
  },
  {
   "cell_type": "code",
   "execution_count": 13,
   "id": "ec3f5ad2-174e-4605-a48f-56c136923457",
   "metadata": {},
   "outputs": [
    {
     "name": "stderr",
     "output_type": "stream",
     "text": [
      "/srv/conda/envs/notebook/lib/python3.9/site-packages/flox/aggregate_flox.py:105: RuntimeWarning: invalid value encountered in divide\n",
      "  out /= nanlen(group_idx, array, size=size, axis=axis, fill_value=0)\n",
      "/srv/conda/envs/notebook/lib/python3.9/site-packages/flox/aggregate_flox.py:105: RuntimeWarning: invalid value encountered in divide\n",
      "  out /= nanlen(group_idx, array, size=size, axis=axis, fill_value=0)\n",
      "/srv/conda/envs/notebook/lib/python3.9/site-packages/flox/aggregate_flox.py:105: RuntimeWarning: invalid value encountered in divide\n",
      "  out /= nanlen(group_idx, array, size=size, axis=axis, fill_value=0)\n"
     ]
    }
   ],
   "source": [
    "all_opendap_urls = threddsclient.opendap_urls(\n",
    "'https://thredds.nilu.no/thredds/catalog/ebas/catalog.xml')\n",
    "\n",
    "# Importing the data\n",
    "opendap_urls = 'https://thredds.nilu.no/thredds/dodsC/ebas/NO0042G.19930101070000.20210421112338.filter_3pack..aerosol.18y.1d.NO01L_f3p_d_0042.NO01L_IC.lev2.nc'\n",
    "dsmf_SUL = xr.open_dataset(opendap_urls)\n",
    "opendap_urls = 'https://thredds.nilu.no/thredds/dodsC/ebas/NO0042G.20110101070000.20210420142507.filter_3pack...1y.1d.NO01L_f3p_d_0042.NO01L_IC.lev2.nc'\n",
    "dsmf_S2011 = xr.open_dataset(opendap_urls)\n",
    "opendap_urls = 'https://thredds.nilu.no/thredds/dodsC/ebas/NO0042G.20120101070000.20210421112338.filter_3pack...6y.1d.NO01L_f3p_d_0042.NO01L_IC.lev2.nc'\n",
    "dsmf_S2012 = xr.open_dataset(opendap_urls)\n",
    "opendap_urls = 'https://thredds.nilu.no/thredds/dodsC/ebas/NO0042G.20180101070000.20220405123416.filter_3pack...4y.1d.NO01L_f3p_d_0042.NO01L_IC.lev2.nc'\n",
    "dsmf_S2018 = xr.open_dataset(opendap_urls)\n",
    "\n",
    "#Singling out Sulphate and Sea Salt from data\n",
    "dsmf_Sul = xr.Dataset()\n",
    "dsmf_fixtime= xr.Dataset()\n",
    "dsmf_fixtime_Salt = xr.Dataset()\n",
    "dsmf_salt = xr.Dataset()\n",
    "dsmf_fixtime['SO4'] = xr.concat([dsmf_SUL['sulphate_total_ug_per_m3'],dsmf_S2011['sulphate_total_ug_per_m3'],dsmf_S2012['sulphate_total_ug_per_m3'],dsmf_S2018['sulphate_total_ug_per_m3']],dim = 'time')\n",
    "dsmf_fixtime_Salt['SS'] = xr.concat([dsmf_SUL['sodium'],dsmf_S2011['sodium'],dsmf_S2012['sodium'],dsmf_S2018['sodium']],dim = 'time')\n",
    "\n",
    "#Values were samples at 19:00, resampling at 00:00 resolves any conflict when plotting\n",
    "dsmf_Sul = dsmf_fixtime.resample(time='d').mean('time')\n",
    "dsmf_salt = dsmf_fixtime_Salt.resample(time='d').mean('time')\n",
    "\n",
    "\n",
    "# get all data urls for one station, e.g., Zeppelin NO0042G\n",
    "opendap_urls = [x for x in all_opendap_urls if 'NO0042G' in x]\n",
    "# get all scattering data urls\n",
    "opendap_urls = [x for x in opendap_urls if 'particle_number_size_distribution' in x]\n",
    "opendap_urls = [x for x in opendap_urls if 'lev2' in x]\n",
    "\n",
    "dsmf00 = xr.open_mfdataset(opendap_urls[3:4])\n",
    "dsmf06 = xr.open_mfdataset(opendap_urls[2:3])\n",
    "dsmf08 = xr.open_mfdataset(opendap_urls[:1])\n",
    "dsmf10 = xr.open_dataset('../../../Data/dNdlogD_data_dmps_cleaned_2010-2020.nc')\n",
    "\n",
    "#Values are hourly, resampling in order to get daily values\n",
    "daily2000 = dsmf00.resample(time='d').mean('time')\n",
    "daily2006 = dsmf06.resample(time='d').mean('time')\n",
    "daily2008 = dsmf08.resample(time='d').mean('time')\n",
    "daily2010 = dsmf10.resample(time='d').mean('time')"
   ]
  },
  {
   "cell_type": "markdown",
   "id": "c573eb09-4d7d-49b6-8f84-045cdd207314",
   "metadata": {},
   "source": [
    "N50 and N100 values were calculated using a numeric integration of the number particle size distribution curves for sampling time."
   ]
  },
  {
   "cell_type": "code",
   "execution_count": null,
   "id": "4b61bc3b-9212-42ad-aa6d-1688d03d3c25",
   "metadata": {},
   "outputs": [],
   "source": [
    "from Sizedist_Util import compute_Nx_ebas_cleaned\n",
    "\n",
    "ds_Nx_2000 =xr.Dataset()\n",
    "ds_Nx_2000['N50'] = compute_Nx_ebas_cleaned(daily2000, x=50)\n",
    "ds_Nx_2000['N100'] = compute_Nx_ebas_cleaned(daily2000, x=100)\n",
    "\n",
    "ds_Nx_2006 =xr.Dataset()\n",
    "ds_Nx_2006['N50'] = compute_Nx_ebas_cleaned(daily2006, x=50)\n",
    "ds_Nx_2006['N100'] = compute_Nx_ebas_cleaned(daily2006, x=100)\n",
    "\n",
    "ds_Nx_2008 =xr.Dataset()\n",
    "ds_Nx_2008['N50'] = compute_Nx_ebas_cleaned(daily2008, x=50)\n",
    "ds_Nx_2008['N100'] = compute_Nx_ebas_cleaned(daily2008, x=100)\n",
    "\n",
    "ds_Nx_2010 =xr.Dataset()\n",
    "ds_Nx_2010['N50'] = compute_Nx_ebas_cleaned(daily2010, x=50, var_diam = 'diameter', v_dNdlog10D='dNdlogD')\n",
    "ds_Nx_2010['N100'] = compute_Nx_ebas_cleaned(daily2010, x=100, var_diam = 'diameter', v_dNdlog10D='dNdlogD')\n",
    "\n",
    "#There is one day of overlap between the 2008 and 2010 data so this was removed before concatenating.\n",
    "ds_Nx_2011 = ds_Nx_2010.sel(time=slice('2011-01','2020-12'))\n",
    "ds_Nx_all = xr.concat([ds_Nx_2000, ds_Nx_2006, ds_Nx_2008, ds_Nx_2011], dim = 'time',coords='minimal',compat='override')\n",
    "\n",
    "ds = xr.merge([dsmf_Sul.sel(time=slice('2000-03','2020-12')),ds_Nx_all,dsmf_salt.sel(time=slice('2000-03','2020-12'))])\n",
    "ds['SO4'].attrs['Units'] = 'ug/m$^3$'\n",
    "ds['N50'].attrs['Units'] = 'N50'\n",
    "ds['N100'].attrs['Units'] = 'N100'\n",
    "ds['SS'].attrs['Units'] = 'ug/m$^3$'"
   ]
  },
  {
   "cell_type": "markdown",
   "id": "6c44eaae-c7a4-4171-a4c5-1a1543bf0ba3",
   "metadata": {},
   "source": [
    "In order to make realistic comparisons with the observation data, the bottom layer of the NorESM model in Zeppelin was extracted from the rest of the data. Thi was done since NorESM is uses a hybrid pressure layer model so the bottom layer follows the surface topography to some extent."
   ]
  },
  {
   "cell_type": "code",
   "execution_count": 14,
   "id": "7c6b0c77-f09a-42c6-afee-32aece0623f1",
   "metadata": {},
   "outputs": [],
   "source": [
    "#Selecting only Zeppelin station and data from the bottom pressure layer\n",
    "Model_ds = ds_daily.sel(location='Zeppelin').isel(lev = -1)\n",
    "\n",
    "#Renaming variables to avoid conflicts\n",
    "Model_ds['N50_Model'] = Model_ds['N50']\n",
    "Model_ds['N100_Model'] = Model_ds['N100']\n",
    "Model_ds = Model_ds.drop_vars(['N50','N100'])\n",
    "\n",
    "#Combining the observation and Model data\n",
    "ALLDATA = xr.merge([ds,Model_ds])"
   ]
  }
 ],
 "metadata": {
  "kernelspec": {
   "display_name": "Python 3 (ipykernel)",
   "language": "python",
   "name": "python3"
  },
  "language_info": {
   "codemirror_mode": {
    "name": "ipython",
    "version": 3
   },
   "file_extension": ".py",
   "mimetype": "text/x-python",
   "name": "python",
   "nbconvert_exporter": "python",
   "pygments_lexer": "ipython3",
   "version": "3.9.13"
  }
 },
 "nbformat": 4,
 "nbformat_minor": 5
}
