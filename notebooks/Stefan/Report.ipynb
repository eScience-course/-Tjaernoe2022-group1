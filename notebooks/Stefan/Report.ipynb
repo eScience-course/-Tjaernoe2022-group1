{
 "cells": [
  {
   "cell_type": "markdown",
   "id": "a482c2fa-eb0e-4bbe-b8a0-223a388bf6a7",
   "metadata": {},
   "source": [
    "# Escience Course Report"
   ]
  },
  {
   "cell_type": "markdown",
   "id": "66cab228-0463-414c-95a3-7b54842e196f",
   "metadata": {},
   "source": [
    "## Group 1:\n",
    "## Arctic - SCHMARTIC: SCHool of Model evaluation of AeRosol-Cloud inTeractions Important for Climate\n",
    "\n",
    "### Evaluating NorESM for process interactions of aerosols and cloud formation in the arctic."
   ]
  },
  {
   "cell_type": "markdown",
   "id": "c7af9fda-2fa6-49e2-8bc2-4a50c3b28aee",
   "metadata": {},
   "source": [
    "Lets keep this here in case we need an Abstract later, which I will write at the end once I already know what the whole report will be about."
   ]
  },
  {
   "cell_type": "markdown",
   "id": "e5d1953a-e739-41b4-a937-83c490b46570",
   "metadata": {},
   "source": [
    "## Introduction"
   ]
  },
  {
   "cell_type": "markdown",
   "id": "4d3308b5-e4b4-4051-b562-ed3927789d53",
   "metadata": {},
   "source": []
  },
  {
   "cell_type": "markdown",
   "id": "b5a76588-a770-4860-aa2d-0e8079848bf3",
   "metadata": {},
   "source": []
  },
  {
   "cell_type": "markdown",
   "id": "45145512-6080-4fe9-8cf2-40f86e817229",
   "metadata": {},
   "source": []
  },
  {
   "cell_type": "markdown",
   "id": "9dbde81f-c552-413a-a0de-265bfc65a9b0",
   "metadata": {},
   "source": []
  },
  {
   "cell_type": "markdown",
   "id": "86d3484d-ca44-4bb1-8a53-575be50d9227",
   "metadata": {},
   "source": []
  },
  {
   "cell_type": "markdown",
   "id": "1a622584-e98a-4ef3-ae0f-30546d226275",
   "metadata": {},
   "source": []
  },
  {
   "cell_type": "markdown",
   "id": "03a7ec22-9489-421f-a7f8-2c2dbe75380b",
   "metadata": {},
   "source": []
  }
 ],
 "metadata": {
  "kernelspec": {
   "display_name": "Python 3 (ipykernel)",
   "language": "python",
   "name": "python3"
  },
  "language_info": {
   "codemirror_mode": {
    "name": "ipython",
    "version": 3
   },
   "file_extension": ".py",
   "mimetype": "text/x-python",
   "name": "python",
   "nbconvert_exporter": "python",
   "pygments_lexer": "ipython3",
   "version": "3.9.13"
  }
 },
 "nbformat": 4,
 "nbformat_minor": 5
}
