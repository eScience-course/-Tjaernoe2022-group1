{
 "cells": [
  {
   "cell_type": "markdown",
   "id": "a482c2fa-eb0e-4bbe-b8a0-223a388bf6a7",
   "metadata": {},
   "source": [
    "# Escience Course Report"
   ]
  },
  {
   "cell_type": "markdown",
   "id": "66cab228-0463-414c-95a3-7b54842e196f",
   "metadata": {},
   "source": [
    "## Group 1:\n",
    "## Arctic - SCHMARTIC: SCHool of Model evaluation of AeRosol-Cloud inTeractions Important for Climate\n",
    "\n",
    "### Evaluating NorESM for process interactions of aerosols and cloud formation in the arctic."
   ]
  },
  {
   "cell_type": "markdown",
   "id": "c7af9fda-2fa6-49e2-8bc2-4a50c3b28aee",
   "metadata": {},
   "source": [
    "Lets keep this here in case we need an Abstract later, which I will write at the end once I already know what the whole report will be about."
   ]
  },
  {
   "cell_type": "markdown",
   "id": "e5d1953a-e739-41b4-a937-83c490b46570",
   "metadata": {},
   "source": [
    "## Introduction"
   ]
  },
  {
   "cell_type": "markdown",
   "id": "4d3308b5-e4b4-4051-b562-ed3927789d53",
   "metadata": {},
   "source": [
    "Structure:\n",
    "- importance of clouds for radiative feedbacks for future climate predictions\n",
    "- CCN importance in cloud formation\n",
    "- sulphate and air composition importance for CCN production\n",
    "- Models need to get all this correct in order to make sure that the radiative balances and therefore the future predictions are also correct.\n",
    "    - Are they doing this?\n",
    "- This paper will focus on the role of sulphate and the production of CCN's."
   ]
  },
  {
   "cell_type": "markdown",
   "id": "b5a76588-a770-4860-aa2d-0e8079848bf3",
   "metadata": {},
   "source": []
  },
  {
   "cell_type": "markdown",
   "id": "45145512-6080-4fe9-8cf2-40f86e817229",
   "metadata": {},
   "source": [
    "Predicting the future of Earth's changing climate is a vital need that requires models providing accurate and trustworthy expectations of future conditions, so that actions may be taken to avoid adverse scenarios. This is most true in the Artic where temperatures have been increasing at up to three times the average global rates encouraged by positive feedbacks. Many of these are positive and leading to increased warming, for example increased temperatures leading to lower sea ice cover, causing lower average surface albedo, in turn leading to further warming via decreased reflected solar radiation. Some are negative feedbacks and could help the climate remain in a more \"normal\" state by slowing the ongoing warming. One such feedback is the indirect impact of aerosols due to low-level clouds' cooling effect as they reflect and scatter more light before it can reach Earth's surface. Modelling these clouds correctly is very important in painting a clearer picture for the future of a rapidly changing Arctic.\n",
    "\n",
    "Modeling clouds is not as simple as just calculating the presence and height of clouds. The conditions of clouds such as the brightness, cloud droplet size, and water vs ice crystal characteristics are integral in them being either net warming or net cooling. Even when using the same sets of models, cloud feedbacks can be drastically different depending on the conditions portraied. This was show when Pithan and Mauritsen found arctic clouds to have a slight positive feedback whilst Zelinka et al. showed Arctic clouds to have a negative feedback despite using the same set of models."
   ]
  },
  {
   "cell_type": "markdown",
   "id": "9dbde81f-c552-413a-a0de-265bfc65a9b0",
   "metadata": {},
   "source": [
    "Pithan and Mauritsen"
   ]
  },
  {
   "cell_type": "markdown",
   "id": "86d3484d-ca44-4bb1-8a53-575be50d9227",
   "metadata": {
    "jupyter": {
     "source_hidden": true
    },
    "tags": []
   },
   "source": [
    "***Different Start***\n",
    "\n",
    "\n",
    "Predicting Earth's changing climate is a vital need that requires models providing accurate and trustworthy expectations of future conditions, so that actions may be taken to avoid adverse scenarios. This is most true in the Artic where temperatures have been increasing at up to three times the average global rates encouraged by positive feedbacks. Many of these are positive and leading to increased warming, for example increased temperatures leading to lower sea ice cover, causing lower average surface albedo, in turn leading to further warming via decreased reflected solar radiation. Some are negative feedbacks and could help the climate remain in a more \"normal\" state by slowing the ongoing warming. One such feedback is the indirect impact of aerosols due to low-level clouds' cooling effect as they reflect and scatter more light before it can reach Earth's surface. Modelling these clouds correctly is very important in painting a clearer picture for the future of a rapidly changing Arctic.\n",
    "\n",
    "Modeling clouds is not as simple as just calculating the presence and height of clouds. The conditions of clouds such as the brightness, cloud droplet size, and water vs ice crystal characteristics are integral in them being net warming or net cooling."
   ]
  },
  {
   "cell_type": "markdown",
   "id": "1a622584-e98a-4ef3-ae0f-30546d226275",
   "metadata": {},
   "source": []
  },
  {
   "cell_type": "markdown",
   "id": "03a7ec22-9489-421f-a7f8-2c2dbe75380b",
   "metadata": {},
   "source": []
  }
 ],
 "metadata": {
  "kernelspec": {
   "display_name": "Python 3 (ipykernel)",
   "language": "python",
   "name": "python3"
  },
  "language_info": {
   "codemirror_mode": {
    "name": "ipython",
    "version": 3
   },
   "file_extension": ".py",
   "mimetype": "text/x-python",
   "name": "python",
   "nbconvert_exporter": "python",
   "pygments_lexer": "ipython3",
   "version": "3.9.13"
  }
 },
 "nbformat": 4,
 "nbformat_minor": 5
}
