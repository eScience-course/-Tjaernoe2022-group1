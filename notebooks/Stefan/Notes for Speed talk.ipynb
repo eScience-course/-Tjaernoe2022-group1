{
 "cells": [
  {
   "cell_type": "markdown",
   "id": "309aeddb-f450-4a84-a830-61ddae3fc86f",
   "metadata": {},
   "source": [
    "## Notes for the speed talks!"
   ]
  },
  {
   "cell_type": "markdown",
   "id": "a6bf0dca-c310-4b27-9cb5-9613a08fdf4c",
   "metadata": {},
   "source": [
    "Looking at data from Zeppelin:\n",
    "\n",
    "- We have been calculating the CCN concentrations (N50 as well as N100)\n",
    "- [CCN] will be compared with the sulphate concentrations to see a potential role of sulphate on CCN production, which in turn will lead to cloud formation.\n",
    "- Both of these aspects would then be compared to the sulphate concentrations and cloud production in the model data.\n",
    "- *Ingvild goes more into detail about her work with the cloud composition and formation trends*\n",
    "\n",
    "- From particle number size distribution separated by seasons/months, we have seen a general shift in the Aitken mode as well as in the Accumulation mode. Explain how we see this -> relate to Paul's talk of activated CCN's and residuals. Build-up during winter.\n",
    "\n",
    "- What are the compositions during this time?\n",
    "- Are there any events of lots of a certain species where we can find the source of the event? (Hysplit backtracing)"
   ]
  },
  {
   "cell_type": "markdown",
   "id": "315fd596-d7f4-4147-b315-4e2cc4019515",
   "metadata": {},
   "source": []
  },
  {
   "cell_type": "markdown",
   "id": "f2e35cd4-2b92-454e-9df2-45f278fba36e",
   "metadata": {},
   "source": []
  },
  {
   "cell_type": "markdown",
   "id": "83e6e328-6361-459e-baf3-4c5e4ec6af38",
   "metadata": {},
   "source": []
  }
 ],
 "metadata": {
  "kernelspec": {
   "display_name": "Python 3 (ipykernel)",
   "language": "python",
   "name": "python3"
  },
  "language_info": {
   "codemirror_mode": {
    "name": "ipython",
    "version": 3
   },
   "file_extension": ".py",
   "mimetype": "text/x-python",
   "name": "python",
   "nbconvert_exporter": "python",
   "pygments_lexer": "ipython3",
   "version": "3.9.13"
  }
 },
 "nbformat": 4,
 "nbformat_minor": 5
}
