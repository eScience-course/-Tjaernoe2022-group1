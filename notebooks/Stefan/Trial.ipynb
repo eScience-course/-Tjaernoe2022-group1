{
 "cells": [
  {
   "cell_type": "markdown",
   "id": "3d902ff3-ea68-4a77-af6d-533ad299b9c3",
   "metadata": {},
   "source": [
    "## Test"
   ]
  },
  {
   "cell_type": "markdown",
   "id": "91041df0-82ea-4eed-a05d-3a520b1e2327",
   "metadata": {},
   "source": [
    "Can you see this?"
   ]
  }
 ],
 "metadata": {
  "kernelspec": {
   "display_name": "Python 3 (ipykernel)",
   "language": "python",
   "name": "python3"
  },
  "language_info": {
   "codemirror_mode": {
    "name": "ipython",
    "version": 3
   },
   "file_extension": ".py",
   "mimetype": "text/x-python",
   "name": "python",
   "nbconvert_exporter": "python",
   "pygments_lexer": "ipython3",
   "version": "3.9.13"
  }
 },
 "nbformat": 4,
 "nbformat_minor": 5
}
